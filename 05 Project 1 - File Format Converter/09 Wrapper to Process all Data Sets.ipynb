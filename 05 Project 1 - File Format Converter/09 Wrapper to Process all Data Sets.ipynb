{
 "cells": [
  {
   "cell_type": "code",
   "execution_count": 1,
   "metadata": {},
   "outputs": [],
   "source": [
    "import glob\n",
    "import os\n",
    "import json\n",
    "import re\n",
    "import pandas as pd"
   ]
  },
  {
   "cell_type": "code",
   "execution_count": 2,
   "metadata": {},
   "outputs": [],
   "source": [
    "def get_column_names(schemas, ds_name, sorting_key='column_position'):\n",
    "    column_details = schemas[ds_name]\n",
    "    columns = sorted(column_details, key=lambda col: col[sorting_key])\n",
    "    return [col['column_name'] for col in columns]"
   ]
  },
  {
   "cell_type": "code",
   "execution_count": 3,
   "metadata": {},
   "outputs": [],
   "source": [
    "def read_csv(file, schemas):\n",
    "    file_path_list = re.split('[/\\\\\\]', file)\n",
    "    ds_name = file_path_list[-2]\n",
    "    file_name = file_path_list[-1]\n",
    "    columns = get_column_names(schemas, ds_name)\n",
    "    df = pd.read_csv(file, names=columns)\n",
    "    return df"
   ]
  },
  {
   "cell_type": "code",
   "execution_count": 4,
   "metadata": {},
   "outputs": [],
   "source": [
    "def to_json(df, tgt_base_dir, ds_name, file_name):\n",
    "    json_file_path = f'{tgt_base_dir}/{ds_name}/{file_name}'\n",
    "    os.makedirs(f'{tgt_base_dir}/{ds_name}', exist_ok=True)\n",
    "    df.to_json(\n",
    "        json_file_path,\n",
    "        orient='records',\n",
    "        lines=True\n",
    "    )"
   ]
  },
  {
   "cell_type": "code",
   "execution_count": 5,
   "metadata": {},
   "outputs": [],
   "source": [
    "def file_converter(src_base_dir, tgt_base_dir, ds_name):\n",
    "    schemas = json.load(open(f'{src_base_dir}/schemas.json'))\n",
    "    files = glob.glob(f'{src_base_dir}/{ds_name}/part-*')\n",
    "\n",
    "    for file in files:\n",
    "        df = read_csv(file, schemas)\n",
    "        file_name = re.split('[/\\\\\\]', file)[-1]\n",
    "        to_json(df, tgt_base_dir, ds_name, file_name)"
   ]
  },
  {
   "cell_type": "code",
   "execution_count": 6,
   "metadata": {},
   "outputs": [],
   "source": [
    "def process_files(ds_names=None):\n",
    "    src_base_dir = 'data/retail_db'\n",
    "    tgt_base_dir = 'data/retail_db_json'\n",
    "    schemas = json.load(open(f'{src_base_dir}/schemas.json'))\n",
    "    if not ds_names:\n",
    "        ds_names = schemas.keys()\n",
    "    for ds_name in ds_names:\n",
    "        print(f'Processing {ds_name}')\n",
    "        file_converter(src_base_dir, tgt_base_dir, ds_name)"
   ]
  },
  {
   "cell_type": "code",
   "execution_count": 7,
   "metadata": {},
   "outputs": [
    {
     "name": "stdout",
     "output_type": "stream",
     "text": [
      "Processing departments\n",
      "Processing categories\n",
      "Processing orders\n",
      "Processing products\n",
      "Processing customers\n",
      "Processing order_items\n"
     ]
    }
   ],
   "source": [
    "process_files()"
   ]
  },
  {
   "cell_type": "code",
   "execution_count": 8,
   "metadata": {},
   "outputs": [],
   "source": [
    "schemas = json.load(open('data/retail_db/schemas.json'))"
   ]
  },
  {
   "cell_type": "code",
   "execution_count": 9,
   "metadata": {},
   "outputs": [
    {
     "data": {
      "text/plain": [
       "dict_keys(['departments', 'categories', 'orders', 'products', 'customers', 'order_items'])"
      ]
     },
     "execution_count": 9,
     "metadata": {},
     "output_type": "execute_result"
    }
   ],
   "source": [
    "schemas.keys()"
   ]
  },
  {
   "cell_type": "code",
   "execution_count": null,
   "metadata": {},
   "outputs": [],
   "source": []
  }
 ],
 "metadata": {
  "kernelspec": {
   "display_name": "Python 3.9.13 ('pr-venv': venv)",
   "language": "python",
   "name": "python3"
  },
  "language_info": {
   "codemirror_mode": {
    "name": "ipython",
    "version": 3
   },
   "file_extension": ".py",
   "mimetype": "text/x-python",
   "name": "python",
   "nbconvert_exporter": "python",
   "pygments_lexer": "ipython3",
   "version": "3.11.4"
  },
  "orig_nbformat": 4,
  "vscode": {
   "interpreter": {
    "hash": "5421f294131e672cb561fd66dd4ddd0f901e75fd72a9cf1bf40a916143d2df64"
   }
  }
 },
 "nbformat": 4,
 "nbformat_minor": 2
}
