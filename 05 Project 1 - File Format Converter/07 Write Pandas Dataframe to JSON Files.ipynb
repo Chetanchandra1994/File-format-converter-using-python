{
 "cells": [
  {
   "cell_type": "code",
   "execution_count": null,
   "metadata": {},
   "outputs": [],
   "source": [
    "import glob"
   ]
  },
  {
   "cell_type": "code",
   "execution_count": null,
   "metadata": {},
   "outputs": [],
   "source": [
    "src_file_names = glob.glob('data/retail_db/*/part*')"
   ]
  },
  {
   "cell_type": "code",
   "execution_count": null,
   "metadata": {},
   "outputs": [],
   "source": [
    "import re"
   ]
  },
  {
   "cell_type": "code",
   "execution_count": null,
   "metadata": {},
   "outputs": [],
   "source": [
    "for file in src_file_names:\n",
    "    file_path_list = re.split('[/\\\\\\]', file)\n",
    "    print(file_path_list)"
   ]
  },
  {
   "cell_type": "code",
   "execution_count": null,
   "metadata": {},
   "outputs": [],
   "source": [
    "base_dir = 'data/retail_db_json'"
   ]
  },
  {
   "cell_type": "code",
   "execution_count": null,
   "metadata": {},
   "outputs": [],
   "source": [
    "for file in src_file_names:\n",
    "    file_path_list = re.split('[/\\\\\\]', file)\n",
    "    ds_name = file_path_list[-2]\n",
    "    file_name = file_path_list[-1]\n",
    "    json_file_path = f'{base_dir}/{ds_name}/{file_name}'\n",
    "    print(json_file_path)"
   ]
  },
  {
   "cell_type": "code",
   "execution_count": null,
   "metadata": {},
   "outputs": [],
   "source": [
    "import json"
   ]
  },
  {
   "cell_type": "code",
   "execution_count": null,
   "metadata": {},
   "outputs": [],
   "source": [
    "def get_column_names(schemas, ds_name, sorting_key='column_position'):\n",
    "    column_details = schemas[ds_name]\n",
    "    columns = sorted(column_details, key=lambda col: col[sorting_key])\n",
    "    return [col['column_name'] for col in columns]"
   ]
  },
  {
   "cell_type": "code",
   "execution_count": null,
   "metadata": {},
   "outputs": [],
   "source": [
    "schemas = json.load(open('data/retail_db/schemas.json'))"
   ]
  },
  {
   "cell_type": "code",
   "execution_count": null,
   "metadata": {},
   "outputs": [],
   "source": [
    "import pandas as pd"
   ]
  },
  {
   "cell_type": "code",
   "execution_count": null,
   "metadata": {},
   "outputs": [],
   "source": [
    "for file in src_file_names:\n",
    "    print(f'Processing {file}')\n",
    "    file_path_list = re.split('[/\\\\\\]', file)\n",
    "    ds_name = file_path_list[-2]\n",
    "    columns = get_column_names(schemas, ds_name)\n",
    "    df = pd.read_csv(file, names=columns)\n",
    "    print(f'Shape of {ds_name} is {df.shape}')"
   ]
  },
  {
   "cell_type": "code",
   "execution_count": null,
   "metadata": {},
   "outputs": [],
   "source": [
    "import os"
   ]
  },
  {
   "cell_type": "code",
   "execution_count": null,
   "metadata": {},
   "outputs": [],
   "source": [
    "tgt_base_dir = 'data/retail_db_json'\n",
    "for file in src_file_names:\n",
    "    print(f'Processing {file}')\n",
    "    file_path_list = re.split('[/\\\\\\]', file)\n",
    "    ds_name = file_path_list[-2]\n",
    "    file_name = file_path_list[-1]\n",
    "    json_file_path = f'{base_dir}/{ds_name}/{file_name}'\n",
    "    columns = get_column_names(schemas, ds_name)\n",
    "    df = pd.read_csv(file, names=columns)\n",
    "    os.makedirs(f'{tgt_base_dir}/{ds_name}', exist_ok=True)\n",
    "    df.to_json(\n",
    "        json_file_path,\n",
    "        orient='records',\n",
    "        lines=True\n",
    "    )"
   ]
  },
  {
   "cell_type": "code",
   "execution_count": null,
   "metadata": {},
   "outputs": [],
   "source": []
  }
 ],
 "metadata": {
  "kernelspec": {
   "display_name": "Python 3.9.13 ('pr-venv': venv)",
   "language": "python",
   "name": "python3"
  },
  "language_info": {
   "codemirror_mode": {
    "name": "ipython",
    "version": 3
   },
   "file_extension": ".py",
   "mimetype": "text/x-python",
   "name": "python",
   "nbconvert_exporter": "python",
   "pygments_lexer": "ipython3",
   "version": "3.9.13"
  },
  "orig_nbformat": 4,
  "vscode": {
   "interpreter": {
    "hash": "5421f294131e672cb561fd66dd4ddd0f901e75fd72a9cf1bf40a916143d2df64"
   }
  }
 },
 "nbformat": 4,
 "nbformat_minor": 2
}
